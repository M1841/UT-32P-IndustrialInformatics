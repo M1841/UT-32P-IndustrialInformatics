{
 "cells": [
  {
   "cell_type": "markdown",
   "metadata": {
    "object_type": "Database",
    "urn": "Server[@Name='DESKTOP-99AVJQJ\\MSSQLSERVER_NEW']/Database[@Name='EMR_BMED']"
   },
   "source": [
    "# [EMR_BMED]"
   ]
  },
  {
   "cell_type": "code",
   "execution_count": 0,
   "metadata": {
    "object_type": "Database",
    "urn": "Server[@Name='DESKTOP-99AVJQJ\\MSSQLSERVER_NEW']/Database[@Name='EMR_BMED']"
   },
   "outputs": [],
   "source": [
    "USE [master]\n",
    "GO\n"
   ]
  },
  {
   "cell_type": "code",
   "execution_count": 0,
   "metadata": {
    "object_type": "Database",
    "urn": "Server[@Name='DESKTOP-99AVJQJ\\MSSQLSERVER_NEW']/Database[@Name='EMR_BMED']"
   },
   "outputs": [],
   "source": [
    "/****** Object:  Database [EMR_BMED]    Script Date: 3/8/2025 2:16:54 PM ******/\n",
    "CREATE DATABASE [EMR_BMED]\n",
    " CONTAINMENT = NONE\n",
    " ON  PRIMARY \n",
    "( NAME = N'EMR_BMED', FILENAME = N'D:\\From external HDD\\Automation Year III\\Semester II\\Industrial Informatics\\ii-final-project\\Database\\EMR_BMED.mdf' , SIZE = 32768KB , MAXSIZE = UNLIMITED, FILEGROWTH = 65536KB )\n",
    " LOG ON \n",
    "( NAME = N'EMR_BMED_log', FILENAME = N'D:\\From external HDD\\Automation Year III\\Semester II\\Industrial Informatics\\ii-final-project\\Database\\EMR_BMED_log.ldf' , SIZE = 32768KB , MAXSIZE = 2048GB , FILEGROWTH = 65536KB )\n",
    " WITH CATALOG_COLLATION = DATABASE_DEFAULT, LEDGER = OFF\n",
    "GO\n",
    "ALTER DATABASE [EMR_BMED] SET COMPATIBILITY_LEVEL = 160\n",
    "GO\n",
    "IF (1 = FULLTEXTSERVICEPROPERTY('IsFullTextInstalled'))\n",
    "begin\n",
    "EXEC [EMR_BMED].[dbo].[sp_fulltext_database] @action = 'enable'\n",
    "end\n",
    "GO\n",
    "ALTER DATABASE [EMR_BMED] SET ANSI_NULL_DEFAULT OFF \n",
    "GO\n",
    "ALTER DATABASE [EMR_BMED] SET ANSI_NULLS OFF \n",
    "GO\n",
    "ALTER DATABASE [EMR_BMED] SET ANSI_PADDING OFF \n",
    "GO\n",
    "ALTER DATABASE [EMR_BMED] SET ANSI_WARNINGS OFF \n",
    "GO\n",
    "ALTER DATABASE [EMR_BMED] SET ARITHABORT OFF \n",
    "GO\n",
    "ALTER DATABASE [EMR_BMED] SET AUTO_CLOSE OFF \n",
    "GO\n",
    "ALTER DATABASE [EMR_BMED] SET AUTO_SHRINK OFF \n",
    "GO\n",
    "ALTER DATABASE [EMR_BMED] SET AUTO_UPDATE_STATISTICS ON \n",
    "GO\n",
    "ALTER DATABASE [EMR_BMED] SET CURSOR_CLOSE_ON_COMMIT OFF \n",
    "GO\n",
    "ALTER DATABASE [EMR_BMED] SET CURSOR_DEFAULT  GLOBAL \n",
    "GO\n",
    "ALTER DATABASE [EMR_BMED] SET CONCAT_NULL_YIELDS_NULL OFF \n",
    "GO\n",
    "ALTER DATABASE [EMR_BMED] SET NUMERIC_ROUNDABORT OFF \n",
    "GO\n",
    "ALTER DATABASE [EMR_BMED] SET QUOTED_IDENTIFIER OFF \n",
    "GO\n",
    "ALTER DATABASE [EMR_BMED] SET RECURSIVE_TRIGGERS OFF \n",
    "GO\n",
    "ALTER DATABASE [EMR_BMED] SET  DISABLE_BROKER \n",
    "GO\n",
    "ALTER DATABASE [EMR_BMED] SET AUTO_UPDATE_STATISTICS_ASYNC OFF \n",
    "GO\n",
    "ALTER DATABASE [EMR_BMED] SET DATE_CORRELATION_OPTIMIZATION OFF \n",
    "GO\n",
    "ALTER DATABASE [EMR_BMED] SET TRUSTWORTHY OFF \n",
    "GO\n",
    "ALTER DATABASE [EMR_BMED] SET ALLOW_SNAPSHOT_ISOLATION OFF \n",
    "GO\n",
    "ALTER DATABASE [EMR_BMED] SET PARAMETERIZATION SIMPLE \n",
    "GO\n",
    "ALTER DATABASE [EMR_BMED] SET READ_COMMITTED_SNAPSHOT OFF \n",
    "GO\n",
    "ALTER DATABASE [EMR_BMED] SET HONOR_BROKER_PRIORITY OFF \n",
    "GO\n",
    "ALTER DATABASE [EMR_BMED] SET RECOVERY FULL \n",
    "GO\n",
    "ALTER DATABASE [EMR_BMED] SET  MULTI_USER \n",
    "GO\n",
    "ALTER DATABASE [EMR_BMED] SET PAGE_VERIFY CHECKSUM  \n",
    "GO\n",
    "ALTER DATABASE [EMR_BMED] SET DB_CHAINING OFF \n",
    "GO\n",
    "ALTER DATABASE [EMR_BMED] SET FILESTREAM( NON_TRANSACTED_ACCESS = OFF ) \n",
    "GO\n",
    "ALTER DATABASE [EMR_BMED] SET TARGET_RECOVERY_TIME = 60 SECONDS \n",
    "GO\n",
    "ALTER DATABASE [EMR_BMED] SET DELAYED_DURABILITY = DISABLED \n",
    "GO\n",
    "ALTER DATABASE [EMR_BMED] SET ACCELERATED_DATABASE_RECOVERY = OFF  \n",
    "GO\n",
    "EXEC sys.sp_db_vardecimal_storage_format N'EMR_BMED', N'ON'\n",
    "GO\n",
    "ALTER DATABASE [EMR_BMED] SET QUERY_STORE = ON\n",
    "GO\n",
    "ALTER DATABASE [EMR_BMED] SET QUERY_STORE (OPERATION_MODE = READ_WRITE, CLEANUP_POLICY = (STALE_QUERY_THRESHOLD_DAYS = 30), DATA_FLUSH_INTERVAL_SECONDS = 900, INTERVAL_LENGTH_MINUTES = 60, MAX_STORAGE_SIZE_MB = 1000, QUERY_CAPTURE_MODE = AUTO, SIZE_BASED_CLEANUP_MODE = AUTO, MAX_PLANS_PER_QUERY = 200, WAIT_STATS_CAPTURE_MODE = ON)\n",
    "GO\n"
   ]
  },
  {
   "cell_type": "markdown",
   "metadata": {
    "object_type": "Table",
    "urn": "Server[@Name='DESKTOP-99AVJQJ\\MSSQLSERVER_NEW']/Database[@Name='EMR_BMED']/Table[@Name='Medication' and @Schema='dbo']"
   },
   "source": [
    "# [dbo].[Medication]"
   ]
  },
  {
   "cell_type": "code",
   "execution_count": 0,
   "metadata": {
    "object_type": "Table",
    "urn": "Server[@Name='DESKTOP-99AVJQJ\\MSSQLSERVER_NEW']/Database[@Name='EMR_BMED']/Table[@Name='Medication' and @Schema='dbo']"
   },
   "outputs": [],
   "source": [
    "USE [EMR_BMED]\n",
    "GO\n"
   ]
  },
  {
   "cell_type": "code",
   "execution_count": 0,
   "metadata": {
    "object_type": "Table",
    "urn": "Server[@Name='DESKTOP-99AVJQJ\\MSSQLSERVER_NEW']/Database[@Name='EMR_BMED']/Table[@Name='Medication' and @Schema='dbo']"
   },
   "outputs": [],
   "source": [
    "/****** Object:  Table [dbo].[Medication]    Script Date: 3/8/2025 2:16:54 PM ******/\n",
    "SET ANSI_NULLS ON\n",
    "GO\n",
    "SET QUOTED_IDENTIFIER ON\n",
    "GO\n",
    "CREATE TABLE [dbo].[Medication](\n",
    "\t[MID] [int] IDENTITY(1,1) NOT NULL,\n",
    "\t[Name] [nvarchar](50) NOT NULL,\n",
    "\t[Brand] [nvarchar](50) NOT NULL,\n",
    "\t[Dosage_form] [nvarchar](20) NULL,\n",
    "\t[Administration_route] [nvarchar](30) NULL,\n",
    "\t[Indications] [nvarchar](255) NULL,\n",
    "\t[Contraindications] [nvarchar](255) NULL,\n",
    "\t[Side_effects] [nvarchar](255) NULL,\n",
    "\t[Warnings] [nvarchar](255) NULL,\n",
    "\t[Prescription_req] [bit] NOT NULL,\n",
    "\t[Storing] [nvarchar](50) NULL,\n",
    " CONSTRAINT [PK_Medication] PRIMARY KEY CLUSTERED \n",
    "(\n",
    "\t[MID] ASC\n",
    ")WITH (PAD_INDEX = OFF, STATISTICS_NORECOMPUTE = OFF, IGNORE_DUP_KEY = OFF, ALLOW_ROW_LOCKS = ON, ALLOW_PAGE_LOCKS = ON, OPTIMIZE_FOR_SEQUENTIAL_KEY = OFF) ON [PRIMARY]\n",
    ") ON [PRIMARY]\n",
    "GO\n"
   ]
  },
  {
   "cell_type": "markdown",
   "metadata": {
    "object_type": "Table",
    "urn": "Server[@Name='DESKTOP-99AVJQJ\\MSSQLSERVER_NEW']/Database[@Name='EMR_BMED']/Table[@Name='Users' and @Schema='dbo']"
   },
   "source": [
    "# [dbo].[Users]"
   ]
  },
  {
   "cell_type": "code",
   "execution_count": 0,
   "metadata": {
    "object_type": "Table",
    "urn": "Server[@Name='DESKTOP-99AVJQJ\\MSSQLSERVER_NEW']/Database[@Name='EMR_BMED']/Table[@Name='Users' and @Schema='dbo']"
   },
   "outputs": [],
   "source": [
    "/****** Object:  Table [dbo].[Users]    Script Date: 3/8/2025 2:16:55 PM ******/\n",
    "SET ANSI_NULLS ON\n",
    "GO\n",
    "SET QUOTED_IDENTIFIER ON\n",
    "GO\n",
    "CREATE TABLE [dbo].[Users](\n",
    "\t[UID] [int] IDENTITY(1,1) NOT NULL,\n",
    "\t[Surname] [nvarchar](50) NOT NULL,\n",
    "\t[Name] [nvarchar](50) NOT NULL,\n",
    "\t[Gender] [nvarchar](10) NOT NULL,\n",
    "\t[Birthday] [date] NOT NULL,\n",
    "\t[Phone] [varchar](16) NULL,\n",
    "\t[Email] [varchar](50) NULL,\n",
    "\t[Allergies] [nvarchar](255) NULL,\n",
    "\t[Intolerances] [nvarchar](255) NULL,\n",
    "\t[Conditions] [nvarchar](255) NULL,\n",
    "\t[Blood] [char](3) NULL,\n",
    " CONSTRAINT [PK_Users] PRIMARY KEY CLUSTERED \n",
    "(\n",
    "\t[UID] ASC\n",
    ")WITH (PAD_INDEX = OFF, STATISTICS_NORECOMPUTE = OFF, IGNORE_DUP_KEY = OFF, ALLOW_ROW_LOCKS = ON, ALLOW_PAGE_LOCKS = ON, OPTIMIZE_FOR_SEQUENTIAL_KEY = OFF) ON [PRIMARY]\n",
    ") ON [PRIMARY]\n",
    "GO\n"
   ]
  },
  {
   "cell_type": "markdown",
   "metadata": {
    "object_type": "Table",
    "urn": "Server[@Name='DESKTOP-99AVJQJ\\MSSQLSERVER_NEW']/Database[@Name='EMR_BMED']/Table[@Name='Prescriptions' and @Schema='dbo']"
   },
   "source": [
    "# [dbo].[Prescriptions]"
   ]
  },
  {
   "cell_type": "code",
   "execution_count": 0,
   "metadata": {
    "object_type": "Table",
    "urn": "Server[@Name='DESKTOP-99AVJQJ\\MSSQLSERVER_NEW']/Database[@Name='EMR_BMED']/Table[@Name='Prescriptions' and @Schema='dbo']"
   },
   "outputs": [],
   "source": [
    "/****** Object:  Table [dbo].[Prescriptions]    Script Date: 3/8/2025 2:16:55 PM ******/\n",
    "SET ANSI_NULLS ON\n",
    "GO\n",
    "SET QUOTED_IDENTIFIER ON\n",
    "GO\n",
    "CREATE TABLE [dbo].[Prescriptions](\n",
    "\t[PID] [int] IDENTITY(1,1) NOT NULL,\n",
    "\t[DID] [int] NOT NULL,\n",
    "\t[UID] [int] NOT NULL,\n",
    "\t[Date_issued] [date] NOT NULL,\n",
    "\t[Notes] [nvarchar](255) NULL,\n",
    " CONSTRAINT [PK_Prescriptions] PRIMARY KEY CLUSTERED \n",
    "(\n",
    "\t[PID] ASC\n",
    ")WITH (PAD_INDEX = OFF, STATISTICS_NORECOMPUTE = OFF, IGNORE_DUP_KEY = OFF, ALLOW_ROW_LOCKS = ON, ALLOW_PAGE_LOCKS = ON, OPTIMIZE_FOR_SEQUENTIAL_KEY = OFF) ON [PRIMARY]\n",
    ") ON [PRIMARY]\n",
    "GO\n"
   ]
  },
  {
   "cell_type": "markdown",
   "metadata": {
    "object_type": "Table",
    "urn": "Server[@Name='DESKTOP-99AVJQJ\\MSSQLSERVER_NEW']/Database[@Name='EMR_BMED']/Table[@Name='Pres_Med' and @Schema='dbo']"
   },
   "source": [
    "# [dbo].[Pres_Med]"
   ]
  },
  {
   "cell_type": "code",
   "execution_count": 0,
   "metadata": {
    "object_type": "Table",
    "urn": "Server[@Name='DESKTOP-99AVJQJ\\MSSQLSERVER_NEW']/Database[@Name='EMR_BMED']/Table[@Name='Pres_Med' and @Schema='dbo']"
   },
   "outputs": [],
   "source": [
    "/****** Object:  Table [dbo].[Pres_Med]    Script Date: 3/8/2025 2:16:55 PM ******/\n",
    "SET ANSI_NULLS ON\n",
    "GO\n",
    "SET QUOTED_IDENTIFIER ON\n",
    "GO\n",
    "CREATE TABLE [dbo].[Pres_Med](\n",
    "\t[MPID] [int] IDENTITY(1,1) NOT NULL,\n",
    "\t[MID] [int] NOT NULL,\n",
    "\t[PID] [int] NOT NULL,\n",
    "\t[Dosage] [nvarchar](50) NOT NULL,\n",
    "\t[Duration] [nvarchar](50) NOT NULL,\n",
    "\t[Instructions] [text] NOT NULL,\n",
    "\t[Meal] [bit] NOT NULL,\n",
    "\t[Fixed] [bit] NOT NULL,\n",
    " CONSTRAINT [PK_Pres_Med] PRIMARY KEY CLUSTERED \n",
    "(\n",
    "\t[MPID] ASC\n",
    ")WITH (PAD_INDEX = OFF, STATISTICS_NORECOMPUTE = OFF, IGNORE_DUP_KEY = OFF, ALLOW_ROW_LOCKS = ON, ALLOW_PAGE_LOCKS = ON, OPTIMIZE_FOR_SEQUENTIAL_KEY = OFF) ON [PRIMARY]\n",
    ") ON [PRIMARY] TEXTIMAGE_ON [PRIMARY]\n",
    "GO\n"
   ]
  },
  {
   "cell_type": "markdown",
   "metadata": {
    "object_type": "View",
    "urn": "Server[@Name='DESKTOP-99AVJQJ\\MSSQLSERVER_NEW']/Database[@Name='EMR_BMED']/View[@Name='display_reteta_pentru_user' and @Schema='dbo']"
   },
   "source": [
    "# [dbo].[display_reteta_pentru_user]"
   ]
  },
  {
   "cell_type": "code",
   "execution_count": 0,
   "metadata": {
    "object_type": "View",
    "urn": "Server[@Name='DESKTOP-99AVJQJ\\MSSQLSERVER_NEW']/Database[@Name='EMR_BMED']/View[@Name='display_reteta_pentru_user' and @Schema='dbo']"
   },
   "outputs": [],
   "source": [
    "/****** Object:  View [dbo].[display_reteta_pentru_user]    Script Date: 3/8/2025 2:16:55 PM ******/\n",
    "SET ANSI_NULLS ON\n",
    "GO\n",
    "SET QUOTED_IDENTIFIER ON\n",
    "GO\n",
    "\n",
    "-- test 1: verificare display reteta atunci cand o va vizualiza user-ul\n",
    "CREATE   VIEW [dbo].[display_reteta_pentru_user]\n",
    "AS\n",
    "SELECT \n",
    "\tp.PID,\t\t\t-- for testing purposes\t\n",
    "\tu.UID,\t\t\t-- for testing purposes\n",
    "\tm.MID,\t\t\t-- for testing purposes\n",
    "\tu.Name\t\t\tAS User_Name,\n",
    "\tu.Surname\t\tAS User_Surname,\n",
    "\tm.Name\t\t\tAS Med_Name,\t\n",
    "\tm.Dosage_form,\n",
    "\tm.Administration_route\n",
    "FROM [dbo].[Prescriptions]\t\tp\n",
    "\tJOIN [dbo].[Users]\t\t\tu\tON\tp.UID = u.UID\n",
    "\tJOIN [dbo].[Pres_Med]\t\tpm\tON\tp.PID = pm.PID\n",
    "\tJOIN [dbo].[Medication]\t\tm\tON\tm.MID = pm.MID\n",
    "WHERE u.UID = 1;\n",
    "\t\t\n",
    "GO\n"
   ]
  },
  {
   "cell_type": "markdown",
   "metadata": {
    "object_type": "Table",
    "urn": "Server[@Name='DESKTOP-99AVJQJ\\MSSQLSERVER_NEW']/Database[@Name='EMR_BMED']/Table[@Name='Doctors' and @Schema='dbo']"
   },
   "source": [
    "# [dbo].[Doctors]"
   ]
  },
  {
   "cell_type": "code",
   "execution_count": 0,
   "metadata": {
    "object_type": "Table",
    "urn": "Server[@Name='DESKTOP-99AVJQJ\\MSSQLSERVER_NEW']/Database[@Name='EMR_BMED']/Table[@Name='Doctors' and @Schema='dbo']"
   },
   "outputs": [],
   "source": [
    "/****** Object:  Table [dbo].[Doctors]    Script Date: 3/8/2025 2:16:55 PM ******/\n",
    "SET ANSI_NULLS ON\n",
    "GO\n",
    "SET QUOTED_IDENTIFIER ON\n",
    "GO\n",
    "CREATE TABLE [dbo].[Doctors](\n",
    "\t[DID] [int] IDENTITY(1,1) NOT NULL,\n",
    "\t[Surname] [nvarchar](20) NOT NULL,\n",
    "\t[Name] [nvarchar](30) NOT NULL,\n",
    "\t[Gender] [nvarchar](10) NOT NULL,\n",
    "\t[Phone] [varchar](16) NULL,\n",
    "\t[Email] [varchar](50) NULL,\n",
    "\t[Address] [nvarchar](100) NULL,\n",
    "\t[Field] [nvarchar](100) NULL,\n",
    " CONSTRAINT [PK_Doctors] PRIMARY KEY CLUSTERED \n",
    "(\n",
    "\t[DID] ASC\n",
    ")WITH (PAD_INDEX = OFF, STATISTICS_NORECOMPUTE = OFF, IGNORE_DUP_KEY = OFF, ALLOW_ROW_LOCKS = ON, ALLOW_PAGE_LOCKS = ON, OPTIMIZE_FOR_SEQUENTIAL_KEY = OFF) ON [PRIMARY]\n",
    ") ON [PRIMARY]\n",
    "GO\n"
   ]
  },
  {
   "cell_type": "markdown",
   "metadata": {
    "object_type": "View",
    "urn": "Server[@Name='DESKTOP-99AVJQJ\\MSSQLSERVER_NEW']/Database[@Name='EMR_BMED']/View[@Name='display_retete_doctori' and @Schema='dbo']"
   },
   "source": [
    "# [dbo].[display_retete_doctori]"
   ]
  },
  {
   "cell_type": "code",
   "execution_count": 0,
   "metadata": {
    "object_type": "View",
    "urn": "Server[@Name='DESKTOP-99AVJQJ\\MSSQLSERVER_NEW']/Database[@Name='EMR_BMED']/View[@Name='display_retete_doctori' and @Schema='dbo']"
   },
   "outputs": [],
   "source": [
    "/****** Object:  View [dbo].[display_retete_doctori]    Script Date: 3/8/2025 2:16:55 PM ******/\n",
    "SET ANSI_NULLS ON\n",
    "GO\n",
    "SET QUOTED_IDENTIFIER ON\n",
    "GO\n",
    "\n",
    "-- test 2: verificare display ce retete au scris doctorii in functie de pacient\n",
    "CREATE   VIEW [dbo].[display_retete_doctori]\n",
    "AS\n",
    "SELECT\n",
    "\tp.PID,\t\t\t-- for testing purposes\n",
    "\td.DID,\t\t\t-- for testing purposes\n",
    "\tm.MID,\t\t\t-- for testing purposes\n",
    "\td.Name\t\t\tAS\tdoctor_name,\n",
    "\td.Surname\t\tAS\tdoctor_surname,\n",
    "\tp.Date_issued,\t-- cand a fost eliberata reteta\n",
    "\tm.Name\t\t\tAS\tmed_name,\n",
    "\tm.Dosage_form,\n",
    "\tm.Administration_route\n",
    "FROM [dbo].[Doctors]\t\t\t\td\n",
    "\tJOIN [dbo].[Prescriptions]\t\tp\tON p.DID = d.DID\t-- sa legi de cine a scris reteta\n",
    "\tJOIN [dbo].[Users]\t\t\t\tu\tON p.UID = u.UID\t-- pentru ca sa cauti reteta dupa numele userului\n",
    "\tJOIN [dbo].[Pres_Med]\t\t\tpm\tON p.PID = pm.PID\t-- legi prescriptia de medicamente\n",
    "\tJOIN [dbo].[Medication]\t\t\tm\tON M.MID = pm.MID\t-- ce medicamente sunt in reteta (efectiv)\n",
    "WHERE u.Name = 'Miruna' AND u.Surname = 'Capricioasa'\n",
    "GO\n"
   ]
  },
  {
   "cell_type": "markdown",
   "metadata": {
    "object_type": "Table",
    "urn": "Server[@Name='DESKTOP-99AVJQJ\\MSSQLSERVER_NEW']/Database[@Name='EMR_BMED']/Table[@Name='Doctors' and @Schema='dbo']"
   },
   "source": [
    "# [dbo].[Doctors]"
   ]
  },
  {
   "cell_type": "code",
   "execution_count": 0,
   "metadata": {
    "object_type": "Table",
    "urn": "Server[@Name='DESKTOP-99AVJQJ\\MSSQLSERVER_NEW']/Database[@Name='EMR_BMED']/Table[@Name='Doctors' and @Schema='dbo']"
   },
   "outputs": [],
   "source": [
    "SET IDENTITY_INSERT [dbo].[Doctors] ON \n",
    "INSERT [dbo].[Doctors] ([DID], [Surname], [Name], [Gender], [Phone], [Email], [Address], [Field]) VALUES (1, N'Popescu', N'Ion', N'M', N'07000000000', N'popescuion@gmail.com', N'popescu ion village', N'pediatrie')\n",
    "INSERT [dbo].[Doctors] ([DID], [Surname], [Name], [Gender], [Phone], [Email], [Address], [Field]) VALUES (2, N'Marinel', N'Viorica', N'F', N'07111111111', N'marinelviorica@gmail.com', N'marinel viorica village', N'ortopedie')\n",
    "SET IDENTITY_INSERT [dbo].[Doctors] OFF\n",
    "GO\n"
   ]
  },
  {
   "cell_type": "markdown",
   "metadata": {
    "object_type": "Table",
    "urn": "Server[@Name='DESKTOP-99AVJQJ\\MSSQLSERVER_NEW']/Database[@Name='EMR_BMED']/Table[@Name='Medication' and @Schema='dbo']"
   },
   "source": [
    "# [dbo].[Medication]"
   ]
  },
  {
   "cell_type": "code",
   "execution_count": 0,
   "metadata": {
    "object_type": "Table",
    "urn": "Server[@Name='DESKTOP-99AVJQJ\\MSSQLSERVER_NEW']/Database[@Name='EMR_BMED']/Table[@Name='Medication' and @Schema='dbo']"
   },
   "outputs": [],
   "source": [
    "SET IDENTITY_INSERT [dbo].[Medication] ON \n",
    "INSERT [dbo].[Medication] ([MID], [Name], [Brand], [Dosage_form], [Administration_route], [Indications], [Contraindications], [Side_effects], [Warnings], [Prescription_req], [Storing]) VALUES (10, N'Numele medicamentului', N'Numele brand-ului', N'Cum se va administra', N'tableta, capsula, sirop, etc', N'Indica?ii - op?ional', N'Contraindica?ii - op?ional', N'Efecte secundare - op?ional', N'Aten?ionari - op?ional', 1, N'Cum se va depozita (în frigider, ferit de soare)')\n",
    "INSERT [dbo].[Medication] ([MID], [Name], [Brand], [Dosage_form], [Administration_route], [Indications], [Contraindications], [Side_effects], [Warnings], [Prescription_req], [Storing]) VALUES (11, N'Medicament 1', N'Brand 1', N'oral', N'tableta', N'Indica?ii 1', N'Contraindica?ii 1', N'Efecte secundare 1', N'Aten?ionari 1', 0, N'în frigider')\n",
    "INSERT [dbo].[Medication] ([MID], [Name], [Brand], [Dosage_form], [Administration_route], [Indications], [Contraindications], [Side_effects], [Warnings], [Prescription_req], [Storing]) VALUES (12, N'Medicament 2', N'Brand 2', N'intravenal', N'injec?ie', N'Indica?ii 2', N'Contraindica?ii 2', N'Efecte secundare 2', N'Aten?ionari 2', 1, N'ferit de soare')\n",
    "INSERT [dbo].[Medication] ([MID], [Name], [Brand], [Dosage_form], [Administration_route], [Indications], [Contraindications], [Side_effects], [Warnings], [Prescription_req], [Storing]) VALUES (13, N'Medicament 3', N'Brand 1', N'oral', N'tableta', N'Indica?ii 3', N'Contraindica?ii 3', N'Efecte secundare 3', N'Aten?ionari 3', 0, N'la umbra')\n",
    "SET IDENTITY_INSERT [dbo].[Medication] OFF\n",
    "GO\n"
   ]
  },
  {
   "cell_type": "markdown",
   "metadata": {
    "object_type": "Table",
    "urn": "Server[@Name='DESKTOP-99AVJQJ\\MSSQLSERVER_NEW']/Database[@Name='EMR_BMED']/Table[@Name='Pres_Med' and @Schema='dbo']"
   },
   "source": [
    "# [dbo].[Pres_Med]"
   ]
  },
  {
   "cell_type": "code",
   "execution_count": 0,
   "metadata": {
    "object_type": "Table",
    "urn": "Server[@Name='DESKTOP-99AVJQJ\\MSSQLSERVER_NEW']/Database[@Name='EMR_BMED']/Table[@Name='Pres_Med' and @Schema='dbo']"
   },
   "outputs": [],
   "source": [
    "SET IDENTITY_INSERT [dbo].[Pres_Med] ON \n",
    "INSERT [dbo].[Pres_Med] ([MPID], [MID], [PID], [Dosage], [Duration], [Instructions], [Meal], [Fixed]) VALUES (3, 10, 1, N'Dozajul', N'Cât timp va fi luat (ex. o luna)', N'Instruc?iuni: cum va fi luat (ora, metoda, etc.)', 1, 1)\n",
    "INSERT [dbo].[Pres_Med] ([MPID], [MID], [PID], [Dosage], [Duration], [Instructions], [Meal], [Fixed]) VALUES (4, 11, 1, N'D2', N'1 week', N'morning', 0, 1)\n",
    "INSERT [dbo].[Pres_Med] ([MPID], [MID], [PID], [Dosage], [Duration], [Instructions], [Meal], [Fixed]) VALUES (5, 12, 2, N'D3', N'3 months', N'before sleep, at night, before 9 pm', 1, 1)\n",
    "SET IDENTITY_INSERT [dbo].[Pres_Med] OFF\n",
    "GO\n"
   ]
  },
  {
   "cell_type": "markdown",
   "metadata": {
    "object_type": "Table",
    "urn": "Server[@Name='DESKTOP-99AVJQJ\\MSSQLSERVER_NEW']/Database[@Name='EMR_BMED']/Table[@Name='Prescriptions' and @Schema='dbo']"
   },
   "source": [
    "# [dbo].[Prescriptions]"
   ]
  },
  {
   "cell_type": "code",
   "execution_count": 0,
   "metadata": {
    "object_type": "Table",
    "urn": "Server[@Name='DESKTOP-99AVJQJ\\MSSQLSERVER_NEW']/Database[@Name='EMR_BMED']/Table[@Name='Prescriptions' and @Schema='dbo']"
   },
   "outputs": [],
   "source": [
    "SET IDENTITY_INSERT [dbo].[Prescriptions] ON \n",
    "INSERT [dbo].[Prescriptions] ([PID], [DID], [UID], [Date_issued], [Notes]) VALUES (1, 1, 1, CAST(N'2025-03-08' AS Date), N'FIRST')\n",
    "INSERT [dbo].[Prescriptions] ([PID], [DID], [UID], [Date_issued], [Notes]) VALUES (2, 2, 1, CAST(N'2025-03-07' AS Date), N'SECOND')\n",
    "INSERT [dbo].[Prescriptions] ([PID], [DID], [UID], [Date_issued], [Notes]) VALUES (3, 1, 2, CAST(N'2025-03-06' AS Date), N'THIRD')\n",
    "INSERT [dbo].[Prescriptions] ([PID], [DID], [UID], [Date_issued], [Notes]) VALUES (4, 2, 2, CAST(N'2025-03-05' AS Date), N'FOURTH')\n",
    "INSERT [dbo].[Prescriptions] ([PID], [DID], [UID], [Date_issued], [Notes]) VALUES (5, 2, 2, CAST(N'2025-03-04' AS Date), N'hehe duplicate')\n",
    "SET IDENTITY_INSERT [dbo].[Prescriptions] OFF\n",
    "GO\n"
   ]
  },
  {
   "cell_type": "markdown",
   "metadata": {
    "object_type": "Table",
    "urn": "Server[@Name='DESKTOP-99AVJQJ\\MSSQLSERVER_NEW']/Database[@Name='EMR_BMED']/Table[@Name='Users' and @Schema='dbo']"
   },
   "source": [
    "# [dbo].[Users]"
   ]
  },
  {
   "cell_type": "code",
   "execution_count": 0,
   "metadata": {
    "object_type": "Table",
    "urn": "Server[@Name='DESKTOP-99AVJQJ\\MSSQLSERVER_NEW']/Database[@Name='EMR_BMED']/Table[@Name='Users' and @Schema='dbo']"
   },
   "outputs": [],
   "source": [
    "SET IDENTITY_INSERT [dbo].[Users] ON \n",
    "INSERT [dbo].[Users] ([UID], [Surname], [Name], [Gender], [Birthday], [Phone], [Email], [Allergies], [Intolerances], [Conditions], [Blood]) VALUES (1, N'Capricioasa', N'Miruna', N'F', CAST(N'1980-03-03' AS Date), N'078989898989', N'capricioasamiruna@gmail.com', N'capricioasa miruna allergies', N'capricioasa miruna intolerances', N'capricioasa miruna conditions', N'O  ')\n",
    "INSERT [dbo].[Users] ([UID], [Surname], [Name], [Gender], [Birthday], [Phone], [Email], [Allergies], [Intolerances], [Conditions], [Blood]) VALUES (2, N'Georgica', N'Vitelul', N'M', CAST(N'1990-01-01' AS Date), N'079999999999', N'georgicavitelul@gmail.com', N'georgica vitelul allergies', N'georgica vitelul intolerances', N'georgica vitelul conditions', N'AB ')\n",
    "SET IDENTITY_INSERT [dbo].[Users] OFF\n",
    "GO\n"
   ]
  },
  {
   "cell_type": "markdown",
   "metadata": {
    "object_type": "ForeignKey",
    "urn": "Server[@Name='DESKTOP-99AVJQJ\\MSSQLSERVER_NEW']/Database[@Name='EMR_BMED']/Table[@Name='Pres_Med' and @Schema='dbo']/ForeignKey[@Name='FK_Pres_Med_Medication']"
   },
   "source": [
    "# [FK_Pres_Med_Medication]"
   ]
  },
  {
   "cell_type": "code",
   "execution_count": 0,
   "metadata": {
    "object_type": "ForeignKey",
    "urn": "Server[@Name='DESKTOP-99AVJQJ\\MSSQLSERVER_NEW']/Database[@Name='EMR_BMED']/Table[@Name='Pres_Med' and @Schema='dbo']/ForeignKey[@Name='FK_Pres_Med_Medication']"
   },
   "outputs": [],
   "source": [
    "ALTER TABLE [dbo].[Pres_Med]  WITH CHECK ADD  CONSTRAINT [FK_Pres_Med_Medication] FOREIGN KEY([MID])\n",
    "REFERENCES [dbo].[Medication] ([MID])\n",
    "GO\n",
    "ALTER TABLE [dbo].[Pres_Med] CHECK CONSTRAINT [FK_Pres_Med_Medication]\n",
    "GO\n"
   ]
  },
  {
   "cell_type": "markdown",
   "metadata": {
    "object_type": "ForeignKey",
    "urn": "Server[@Name='DESKTOP-99AVJQJ\\MSSQLSERVER_NEW']/Database[@Name='EMR_BMED']/Table[@Name='Pres_Med' and @Schema='dbo']/ForeignKey[@Name='FK_Pres_Med_Prescriptions']"
   },
   "source": [
    "# [FK_Pres_Med_Prescriptions]"
   ]
  },
  {
   "cell_type": "code",
   "execution_count": 0,
   "metadata": {
    "object_type": "ForeignKey",
    "urn": "Server[@Name='DESKTOP-99AVJQJ\\MSSQLSERVER_NEW']/Database[@Name='EMR_BMED']/Table[@Name='Pres_Med' and @Schema='dbo']/ForeignKey[@Name='FK_Pres_Med_Prescriptions']"
   },
   "outputs": [],
   "source": [
    "ALTER TABLE [dbo].[Pres_Med]  WITH CHECK ADD  CONSTRAINT [FK_Pres_Med_Prescriptions] FOREIGN KEY([PID])\n",
    "REFERENCES [dbo].[Prescriptions] ([PID])\n",
    "GO\n",
    "ALTER TABLE [dbo].[Pres_Med] CHECK CONSTRAINT [FK_Pres_Med_Prescriptions]\n",
    "GO\n"
   ]
  },
  {
   "cell_type": "markdown",
   "metadata": {
    "object_type": "ForeignKey",
    "urn": "Server[@Name='DESKTOP-99AVJQJ\\MSSQLSERVER_NEW']/Database[@Name='EMR_BMED']/Table[@Name='Prescriptions' and @Schema='dbo']/ForeignKey[@Name='FK_Prescriptions_Doctors']"
   },
   "source": [
    "# [FK_Prescriptions_Doctors]"
   ]
  },
  {
   "cell_type": "code",
   "execution_count": 0,
   "metadata": {
    "object_type": "ForeignKey",
    "urn": "Server[@Name='DESKTOP-99AVJQJ\\MSSQLSERVER_NEW']/Database[@Name='EMR_BMED']/Table[@Name='Prescriptions' and @Schema='dbo']/ForeignKey[@Name='FK_Prescriptions_Doctors']"
   },
   "outputs": [],
   "source": [
    "ALTER TABLE [dbo].[Prescriptions]  WITH CHECK ADD  CONSTRAINT [FK_Prescriptions_Doctors] FOREIGN KEY([DID])\n",
    "REFERENCES [dbo].[Doctors] ([DID])\n",
    "GO\n",
    "ALTER TABLE [dbo].[Prescriptions] CHECK CONSTRAINT [FK_Prescriptions_Doctors]\n",
    "GO\n"
   ]
  },
  {
   "cell_type": "markdown",
   "metadata": {
    "object_type": "ForeignKey",
    "urn": "Server[@Name='DESKTOP-99AVJQJ\\MSSQLSERVER_NEW']/Database[@Name='EMR_BMED']/Table[@Name='Prescriptions' and @Schema='dbo']/ForeignKey[@Name='FK_Prescriptions_Users']"
   },
   "source": [
    "# [FK_Prescriptions_Users]"
   ]
  },
  {
   "cell_type": "code",
   "execution_count": 0,
   "metadata": {
    "object_type": "ForeignKey",
    "urn": "Server[@Name='DESKTOP-99AVJQJ\\MSSQLSERVER_NEW']/Database[@Name='EMR_BMED']/Table[@Name='Prescriptions' and @Schema='dbo']/ForeignKey[@Name='FK_Prescriptions_Users']"
   },
   "outputs": [],
   "source": [
    "ALTER TABLE [dbo].[Prescriptions]  WITH CHECK ADD  CONSTRAINT [FK_Prescriptions_Users] FOREIGN KEY([UID])\n",
    "REFERENCES [dbo].[Users] ([UID])\n",
    "GO\n",
    "ALTER TABLE [dbo].[Prescriptions] CHECK CONSTRAINT [FK_Prescriptions_Users]\n",
    "GO\n"
   ]
  },
  {
   "cell_type": "markdown",
   "metadata": {
    "object_type": "ForeignKey",
    "urn": "Server[@Name='DESKTOP-99AVJQJ\\MSSQLSERVER_NEW']/Database[@Name='EMR_BMED']/Table[@Name='Users' and @Schema='dbo']/ForeignKey[@Name='FK_Users_Users']"
   },
   "source": [
    "# [FK_Users_Users]"
   ]
  },
  {
   "cell_type": "code",
   "execution_count": 0,
   "metadata": {
    "object_type": "ForeignKey",
    "urn": "Server[@Name='DESKTOP-99AVJQJ\\MSSQLSERVER_NEW']/Database[@Name='EMR_BMED']/Table[@Name='Users' and @Schema='dbo']/ForeignKey[@Name='FK_Users_Users']"
   },
   "outputs": [],
   "source": [
    "ALTER TABLE [dbo].[Users]  WITH CHECK ADD  CONSTRAINT [FK_Users_Users] FOREIGN KEY([UID])\n",
    "REFERENCES [dbo].[Users] ([UID])\n",
    "GO\n",
    "ALTER TABLE [dbo].[Users] CHECK CONSTRAINT [FK_Users_Users]\n",
    "GO\n"
   ]
  },
  {
   "cell_type": "markdown",
   "metadata": {
    "object_type": "Database",
    "urn": "Server[@Name='DESKTOP-99AVJQJ\\MSSQLSERVER_NEW']/Database[@Name='EMR_BMED']"
   },
   "source": [
    "# [EMR_BMED]"
   ]
  },
  {
   "cell_type": "code",
   "execution_count": 0,
   "metadata": {
    "object_type": "Database",
    "urn": "Server[@Name='DESKTOP-99AVJQJ\\MSSQLSERVER_NEW']/Database[@Name='EMR_BMED']"
   },
   "outputs": [],
   "source": [
    "USE [master]\n",
    "GO\n"
   ]
  },
  {
   "cell_type": "code",
   "execution_count": 0,
   "metadata": {
    "object_type": "Database",
    "urn": "Server[@Name='DESKTOP-99AVJQJ\\MSSQLSERVER_NEW']/Database[@Name='EMR_BMED']"
   },
   "outputs": [],
   "source": [
    "ALTER DATABASE [EMR_BMED] SET  READ_WRITE \n",
    "GO\n"
   ]
  }
 ],
 "metadata": {
  "kernel_spec": {
   "display_name": "SQL",
   "language": "sql",
   "name": "SQL"
  },
  "language_info": {
   "name": "sql",
   "version": ""
  }
 },
 "nbformat": 4,
 "nbformat_minor": 2
}
